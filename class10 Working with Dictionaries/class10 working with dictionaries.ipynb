{
 "cells": [
  {
   "cell_type": "code",
   "execution_count": 1,
   "id": "2e0b1955",
   "metadata": {},
   "outputs": [],
   "source": [
    "fruit_list = ['Apple', 'Banana', 'Orange']"
   ]
  },
  {
   "cell_type": "code",
   "execution_count": 2,
   "id": "e851ecca",
   "metadata": {},
   "outputs": [],
   "source": [
    "fruit_list = fruit_list + ['Graps', 'Mango']"
   ]
  },
  {
   "cell_type": "code",
   "execution_count": 3,
   "id": "e27a5b0d",
   "metadata": {},
   "outputs": [
    {
     "data": {
      "text/plain": [
       "['Apple', 'Banana', 'Orange', 'Graps', 'Mango']"
      ]
     },
     "execution_count": 3,
     "metadata": {},
     "output_type": "execute_result"
    }
   ],
   "source": [
    "fruit_list"
   ]
  },
  {
   "cell_type": "code",
   "execution_count": 4,
   "id": "f8cebebc",
   "metadata": {},
   "outputs": [],
   "source": [
    "fruit_list_new = ['Apple', 'Banana', 'Orange']"
   ]
  },
  {
   "cell_type": "code",
   "execution_count": 5,
   "id": "4ea6cbbf",
   "metadata": {},
   "outputs": [
    {
     "data": {
      "text/plain": [
       "['Apple', 'Banana', 'Orange']"
      ]
     },
     "execution_count": 5,
     "metadata": {},
     "output_type": "execute_result"
    }
   ],
   "source": [
    "fruit_list_new"
   ]
  },
  {
   "cell_type": "code",
   "execution_count": 6,
   "id": "d592300c",
   "metadata": {},
   "outputs": [],
   "source": [
    "fruit_list_new.extend(['Graps', 'Mango'])"
   ]
  },
  {
   "cell_type": "code",
   "execution_count": 7,
   "id": "e5812034",
   "metadata": {},
   "outputs": [
    {
     "data": {
      "text/plain": [
       "['Apple', 'Banana', 'Orange', 'Graps', 'Mango']"
      ]
     },
     "execution_count": 7,
     "metadata": {},
     "output_type": "execute_result"
    }
   ],
   "source": [
    "fruit_list_new"
   ]
  },
  {
   "cell_type": "code",
   "execution_count": 8,
   "id": "cfc7bd4f",
   "metadata": {},
   "outputs": [],
   "source": [
    "\n",
    "fruit_list_new.reverse()"
   ]
  },
  {
   "cell_type": "code",
   "execution_count": 9,
   "id": "9df18513",
   "metadata": {},
   "outputs": [
    {
     "data": {
      "text/plain": [
       "['Mango', 'Graps', 'Orange', 'Banana', 'Apple']"
      ]
     },
     "execution_count": 9,
     "metadata": {},
     "output_type": "execute_result"
    }
   ],
   "source": [
    "fruit_list_new"
   ]
  },
  {
   "cell_type": "code",
   "execution_count": 10,
   "id": "2573ee14",
   "metadata": {},
   "outputs": [],
   "source": [
    "var = \"madam\""
   ]
  },
  {
   "cell_type": "code",
   "execution_count": 11,
   "id": "2c20d403",
   "metadata": {},
   "outputs": [
    {
     "data": {
      "text/plain": [
       "True"
      ]
     },
     "execution_count": 11,
     "metadata": {},
     "output_type": "execute_result"
    }
   ],
   "source": [
    "var == var[::-1]"
   ]
  },
  {
   "cell_type": "markdown",
   "id": "979d7593",
   "metadata": {},
   "source": [
    "### Dictionaries"
   ]
  },
  {
   "cell_type": "code",
   "execution_count": 12,
   "id": "e6dd1be0",
   "metadata": {},
   "outputs": [
    {
     "data": {
      "text/plain": [
       "['first_name', 'last_name', 'phone_number', 'weight', 'age']"
      ]
     },
     "execution_count": 12,
     "metadata": {},
     "output_type": "execute_result"
    }
   ],
   "source": [
    "['first_name', 'last_name', 'phone_number', 'weight', 'age']"
   ]
  },
  {
   "cell_type": "code",
   "execution_count": 13,
   "id": "7007a6f9",
   "metadata": {},
   "outputs": [],
   "source": [
    "customer1 = ['Talal', 'Zain', '03000223567', 74 , 19]"
   ]
  },
  {
   "cell_type": "code",
   "execution_count": 14,
   "id": "6b58e05d",
   "metadata": {},
   "outputs": [
    {
     "data": {
      "text/plain": [
       "['Talal', 'Zain', '03000223567', 74, 19]"
      ]
     },
     "execution_count": 14,
     "metadata": {},
     "output_type": "execute_result"
    }
   ],
   "source": [
    "customer1"
   ]
  },
  {
   "cell_type": "code",
   "execution_count": 17,
   "id": "73560c0f",
   "metadata": {},
   "outputs": [],
   "source": [
    "customer1[1] = 'Owais'"
   ]
  },
  {
   "cell_type": "code",
   "execution_count": 19,
   "id": "313fcd47",
   "metadata": {},
   "outputs": [],
   "source": [
    "customer1.insert(1, \"Owaisi\")"
   ]
  },
  {
   "cell_type": "code",
   "execution_count": 20,
   "id": "be6bff86",
   "metadata": {},
   "outputs": [],
   "source": [
    "customer1_dict = {'first_name': 'Owais', # key --> value\n",
    "                  'last_name' : 'Zain',\n",
    "                  'phone_number': '030000237654',\n",
    "                  'weight': 74,\n",
    "                  'age': 19\n",
    "                 }"
   ]
  },
  {
   "cell_type": "code",
   "execution_count": 21,
   "id": "2301cd64",
   "metadata": {},
   "outputs": [
    {
     "data": {
      "text/plain": [
       "{'first_name': 'Owais',\n",
       " 'last_name': 'Zain',\n",
       " 'phone_number': '030000237654',\n",
       " 'weight': 74,\n",
       " 'age': 19}"
      ]
     },
     "execution_count": 21,
     "metadata": {},
     "output_type": "execute_result"
    }
   ],
   "source": [
    "customer1_dict"
   ]
  },
  {
   "cell_type": "code",
   "execution_count": 22,
   "id": "7161c051",
   "metadata": {},
   "outputs": [
    {
     "data": {
      "text/plain": [
       "dict"
      ]
     },
     "execution_count": 22,
     "metadata": {},
     "output_type": "execute_result"
    }
   ],
   "source": [
    "type(customer1_dict)"
   ]
  },
  {
   "cell_type": "code",
   "execution_count": 23,
   "id": "3e5f315e",
   "metadata": {},
   "outputs": [
    {
     "data": {
      "text/plain": [
       "2292111071680"
      ]
     },
     "execution_count": 23,
     "metadata": {},
     "output_type": "execute_result"
    }
   ],
   "source": [
    "id(customer1_dict)"
   ]
  },
  {
   "cell_type": "code",
   "execution_count": 24,
   "id": "cf7ef5d6",
   "metadata": {},
   "outputs": [],
   "source": [
    "customer1_dict['phone_number'] = '03000223567'"
   ]
  },
  {
   "cell_type": "code",
   "execution_count": 25,
   "id": "e2d6baa8",
   "metadata": {},
   "outputs": [
    {
     "data": {
      "text/plain": [
       "{'first_name': 'Owais',\n",
       " 'last_name': 'Zain',\n",
       " 'phone_number': '03000223567',\n",
       " 'weight': 74,\n",
       " 'age': 19}"
      ]
     },
     "execution_count": 25,
     "metadata": {},
     "output_type": "execute_result"
    }
   ],
   "source": [
    "customer1_dict"
   ]
  },
  {
   "cell_type": "code",
   "execution_count": 26,
   "id": "4385c3d2",
   "metadata": {},
   "outputs": [],
   "source": [
    "del(customer1_dict['phone_number'])"
   ]
  },
  {
   "cell_type": "code",
   "execution_count": 27,
   "id": "9f188003",
   "metadata": {},
   "outputs": [
    {
     "data": {
      "text/plain": [
       "{'first_name': 'Owais', 'last_name': 'Zain', 'weight': 74, 'age': 19}"
      ]
     },
     "execution_count": 27,
     "metadata": {},
     "output_type": "execute_result"
    }
   ],
   "source": [
    "customer1_dict"
   ]
  },
  {
   "cell_type": "code",
   "execution_count": 28,
   "id": "0315e9ec",
   "metadata": {},
   "outputs": [],
   "source": [
    "new_dict = customer1_dict.copy()"
   ]
  },
  {
   "cell_type": "code",
   "execution_count": 29,
   "id": "758dea0d",
   "metadata": {},
   "outputs": [
    {
     "data": {
      "text/plain": [
       "{'first_name': 'Owais', 'last_name': 'Zain', 'weight': 74, 'age': 19}"
      ]
     },
     "execution_count": 29,
     "metadata": {},
     "output_type": "execute_result"
    }
   ],
   "source": [
    "new_dict"
   ]
  },
  {
   "cell_type": "code",
   "execution_count": 30,
   "id": "93de21c7",
   "metadata": {},
   "outputs": [],
   "source": [
    "customer1_dict['phone_number'] = '03222222876'"
   ]
  },
  {
   "cell_type": "code",
   "execution_count": 31,
   "id": "5ed130af",
   "metadata": {},
   "outputs": [
    {
     "data": {
      "text/plain": [
       "{'first_name': 'Owais',\n",
       " 'last_name': 'Zain',\n",
       " 'weight': 74,\n",
       " 'age': 19,\n",
       " 'phone_number': '03222222876'}"
      ]
     },
     "execution_count": 31,
     "metadata": {},
     "output_type": "execute_result"
    }
   ],
   "source": [
    "customer1_dict"
   ]
  },
  {
   "cell_type": "code",
   "execution_count": 32,
   "id": "8e91bd64",
   "metadata": {},
   "outputs": [
    {
     "data": {
      "text/plain": [
       "dict_items([('first_name', 'Owais'), ('last_name', 'Zain'), ('weight', 74), ('age', 19), ('phone_number', '03222222876')])"
      ]
     },
     "execution_count": 32,
     "metadata": {},
     "output_type": "execute_result"
    }
   ],
   "source": [
    "customer1_dict.items() # convert dict to list of tuples"
   ]
  },
  {
   "cell_type": "raw",
   "id": "c4ff8ab8",
   "metadata": {},
   "source": [
    "dict_items(\n",
    "    [('first_name', 'Owais'),\n",
    "     ('last_name', 'Zain'),\n",
    "     ('weight', 74), \n",
    "     ('age', 19),\n",
    "     ('phone_number', '03222222876')])"
   ]
  },
  {
   "cell_type": "code",
   "execution_count": 33,
   "id": "3f4ab843",
   "metadata": {},
   "outputs": [
    {
     "data": {
      "text/plain": [
       "[1, 2, 3, 4, 5, 6, 7]"
      ]
     },
     "execution_count": 33,
     "metadata": {},
     "output_type": "execute_result"
    }
   ],
   "source": [
    "[1,2,3,4,5,6,7]"
   ]
  },
  {
   "cell_type": "code",
   "execution_count": 34,
   "id": "96ab776e",
   "metadata": {},
   "outputs": [
    {
     "name": "stdout",
     "output_type": "stream",
     "text": [
      "first_name --> Owais\n",
      "last_name --> Zain\n",
      "weight --> 74\n",
      "age --> 19\n",
      "phone_number --> 03222222876\n"
     ]
    }
   ],
   "source": [
    "for key, value in customer1_dict.items():\n",
    "    print(f'{key} --> {value}')"
   ]
  },
  {
   "cell_type": "code",
   "execution_count": 35,
   "id": "4a6fe378",
   "metadata": {},
   "outputs": [
    {
     "name": "stdout",
     "output_type": "stream",
     "text": [
      "first_name --> Owais\n",
      "last_name --> Zain\n",
      "weight --> 74\n",
      "age --> 19\n",
      "phone_number --> 03222222876\n"
     ]
    }
   ],
   "source": [
    "for temp, temp1 in customer1_dict.items():\n",
    "    print(f'{temp} --> {temp1}')"
   ]
  },
  {
   "cell_type": "code",
   "execution_count": 36,
   "id": "6a3a1426",
   "metadata": {},
   "outputs": [
    {
     "name": "stdout",
     "output_type": "stream",
     "text": [
      "first_name\n",
      "last_name\n",
      "weight\n",
      "age\n",
      "phone_number\n"
     ]
    }
   ],
   "source": [
    "for temp in customer1_dict.items():\n",
    "    print(f'{temp[0]}')"
   ]
  },
  {
   "cell_type": "code",
   "execution_count": 37,
   "id": "9fa23369",
   "metadata": {},
   "outputs": [
    {
     "data": {
      "text/plain": [
       "dict_keys(['first_name', 'last_name', 'weight', 'age', 'phone_number'])"
      ]
     },
     "execution_count": 37,
     "metadata": {},
     "output_type": "execute_result"
    }
   ],
   "source": [
    "customer1_dict.keys()"
   ]
  },
  {
   "cell_type": "code",
   "execution_count": 38,
   "id": "208e0898",
   "metadata": {},
   "outputs": [
    {
     "name": "stdout",
     "output_type": "stream",
     "text": [
      "first_name\n",
      "last_name\n",
      "weight\n",
      "age\n",
      "phone_number\n"
     ]
    }
   ],
   "source": [
    "for key in customer1_dict.keys():\n",
    "    print(f'{key}')"
   ]
  },
  {
   "cell_type": "code",
   "execution_count": 39,
   "id": "f514c3ec",
   "metadata": {},
   "outputs": [
    {
     "data": {
      "text/plain": [
       "dict_values(['Owais', 'Zain', 74, 19, '03222222876'])"
      ]
     },
     "execution_count": 39,
     "metadata": {},
     "output_type": "execute_result"
    }
   ],
   "source": [
    "customer1_dict.values()"
   ]
  },
  {
   "cell_type": "code",
   "execution_count": 40,
   "id": "21b0b4b5",
   "metadata": {},
   "outputs": [
    {
     "name": "stdout",
     "output_type": "stream",
     "text": [
      "Owais\n",
      "Zain\n",
      "74\n",
      "19\n",
      "03222222876\n"
     ]
    }
   ],
   "source": [
    "for value in customer1_dict.values():\n",
    "    print(f'{value}')"
   ]
  },
  {
   "cell_type": "code",
   "execution_count": 41,
   "id": "7bc1b8b1",
   "metadata": {},
   "outputs": [
    {
     "data": {
      "text/plain": [
       "{'first_name': 'Owais',\n",
       " 'last_name': 'Zain',\n",
       " 'weight': 74,\n",
       " 'age': 19,\n",
       " 'phone_number': '03222222876'}"
      ]
     },
     "execution_count": 41,
     "metadata": {},
     "output_type": "execute_result"
    }
   ],
   "source": [
    "customer1_dict"
   ]
  },
  {
   "cell_type": "code",
   "execution_count": 42,
   "id": "0359430e",
   "metadata": {},
   "outputs": [
    {
     "data": {
      "text/plain": [
       "'Owais'"
      ]
     },
     "execution_count": 42,
     "metadata": {},
     "output_type": "execute_result"
    }
   ],
   "source": [
    "customer1_dict.get('first_name')"
   ]
  },
  {
   "cell_type": "code",
   "execution_count": 43,
   "id": "d1b3452d",
   "metadata": {},
   "outputs": [],
   "source": [
    "customer1_dict.get('address')"
   ]
  },
  {
   "cell_type": "code",
   "execution_count": 44,
   "id": "3db5a70a",
   "metadata": {},
   "outputs": [
    {
     "data": {
      "text/plain": [
       "'No Address Found'"
      ]
     },
     "execution_count": 44,
     "metadata": {},
     "output_type": "execute_result"
    }
   ],
   "source": [
    "customer1_dict.get('address', 'No Address Found')"
   ]
  },
  {
   "cell_type": "code",
   "execution_count": 45,
   "id": "143fbb75",
   "metadata": {},
   "outputs": [
    {
     "data": {
      "text/plain": [
       "'Zain'"
      ]
     },
     "execution_count": 45,
     "metadata": {},
     "output_type": "execute_result"
    }
   ],
   "source": [
    "customer1_dict.get('last_name', 'not available')"
   ]
  },
  {
   "cell_type": "code",
   "execution_count": 46,
   "id": "facc3950",
   "metadata": {},
   "outputs": [
    {
     "data": {
      "text/plain": [
       "<function dict.fromkeys(iterable, value=None, /)>"
      ]
     },
     "execution_count": 46,
     "metadata": {},
     "output_type": "execute_result"
    }
   ],
   "source": [
    "customer1_dict.fromkeys"
   ]
  },
  {
   "cell_type": "code",
   "execution_count": 47,
   "id": "f82d76f3",
   "metadata": {},
   "outputs": [],
   "source": [
    "set_x = {'a','b','c'}\n",
    "list_y =[0, 1, 2]"
   ]
  },
  {
   "cell_type": "code",
   "execution_count": 48,
   "id": "58daa8d4",
   "metadata": {},
   "outputs": [
    {
     "ename": "NameError",
     "evalue": "name 'set_y' is not defined",
     "output_type": "error",
     "traceback": [
      "\u001b[1;31m---------------------------------------------------------------------------\u001b[0m",
      "\u001b[1;31mNameError\u001b[0m                                 Traceback (most recent call last)",
      "Cell \u001b[1;32mIn[48], line 1\u001b[0m\n\u001b[1;32m----> 1\u001b[0m new \u001b[38;5;241m=\u001b[39m \u001b[38;5;28mdict\u001b[39m\u001b[38;5;241m.\u001b[39mfromkeys(set_x,set_y)\n",
      "\u001b[1;31mNameError\u001b[0m: name 'set_y' is not defined"
     ]
    }
   ],
   "source": [
    "new = dict.fromkeys(set_x,set_y)"
   ]
  },
  {
   "cell_type": "code",
   "execution_count": 49,
   "id": "507b1fe0",
   "metadata": {},
   "outputs": [
    {
     "ename": "NameError",
     "evalue": "name 'new' is not defined",
     "output_type": "error",
     "traceback": [
      "\u001b[1;31m---------------------------------------------------------------------------\u001b[0m",
      "\u001b[1;31mNameError\u001b[0m                                 Traceback (most recent call last)",
      "Cell \u001b[1;32mIn[49], line 1\u001b[0m\n\u001b[1;32m----> 1\u001b[0m new\n",
      "\u001b[1;31mNameError\u001b[0m: name 'new' is not defined"
     ]
    }
   ],
   "source": [
    "new"
   ]
  },
  {
   "cell_type": "code",
   "execution_count": 50,
   "id": "8980dea2",
   "metadata": {},
   "outputs": [
    {
     "ename": "NameError",
     "evalue": "name 'x' is not defined",
     "output_type": "error",
     "traceback": [
      "\u001b[1;31m---------------------------------------------------------------------------\u001b[0m",
      "\u001b[1;31mNameError\u001b[0m                                 Traceback (most recent call last)",
      "Cell \u001b[1;32mIn[50], line 1\u001b[0m\n\u001b[1;32m----> 1\u001b[0m \u001b[38;5;28mtype\u001b[39m(x)\n",
      "\u001b[1;31mNameError\u001b[0m: name 'x' is not defined"
     ]
    }
   ],
   "source": [
    "type(x)"
   ]
  },
  {
   "cell_type": "code",
   "execution_count": 53,
   "id": "860e201c",
   "metadata": {},
   "outputs": [],
   "source": [
    "dict_with_key_num = {1: 'Umar',\n",
    "                     2: 'Talal',\n",
    "                     3: 74,\n",
    "                     4: 19,\n",
    "                     5: '03222222876'}"
   ]
  },
  {
   "cell_type": "code",
   "execution_count": 54,
   "id": "7985178a",
   "metadata": {},
   "outputs": [
    {
     "data": {
      "text/plain": [
       "'Umar'"
      ]
     },
     "execution_count": 54,
     "metadata": {},
     "output_type": "execute_result"
    }
   ],
   "source": [
    "dict_with_key_num[1]"
   ]
  },
  {
   "cell_type": "code",
   "execution_count": 55,
   "id": "05f64c9a",
   "metadata": {},
   "outputs": [
    {
     "data": {
      "text/plain": [
       "{1: 'Umar', 2: 'Talal', 3: 74, 4: 19, 5: '03222222876'}"
      ]
     },
     "execution_count": 55,
     "metadata": {},
     "output_type": "execute_result"
    }
   ],
   "source": [
    "dict_with_key_num"
   ]
  },
  {
   "cell_type": "code",
   "execution_count": 56,
   "id": "c8c4ddc9",
   "metadata": {},
   "outputs": [],
   "source": [
    "dict_with_key_num[6] = 'Stadium Road'"
   ]
  },
  {
   "cell_type": "code",
   "execution_count": 57,
   "id": "d5f1c2bd",
   "metadata": {},
   "outputs": [
    {
     "data": {
      "text/plain": [
       "{1: 'Umar', 2: 'Talal', 3: 74, 4: 19, 5: '03222222876', 6: 'Stadium Road'}"
      ]
     },
     "execution_count": 57,
     "metadata": {},
     "output_type": "execute_result"
    }
   ],
   "source": [
    "dict_with_key_num"
   ]
  },
  {
   "cell_type": "code",
   "execution_count": 58,
   "id": "487b9dc6",
   "metadata": {},
   "outputs": [],
   "source": [
    "del(dict_with_key_num[6])"
   ]
  },
  {
   "cell_type": "code",
   "execution_count": 59,
   "id": "2e6dcbb0",
   "metadata": {},
   "outputs": [
    {
     "data": {
      "text/plain": [
       "{1: 'Umar', 2: 'Talal', 3: 74, 4: 19, 5: '03222222876'}"
      ]
     },
     "execution_count": 59,
     "metadata": {},
     "output_type": "execute_result"
    }
   ],
   "source": [
    "dict_with_key_num"
   ]
  },
  {
   "cell_type": "code",
   "execution_count": 60,
   "id": "5f1efea9",
   "metadata": {},
   "outputs": [],
   "source": [
    "dict_with_key_num[5] = '123'"
   ]
  },
  {
   "cell_type": "code",
   "execution_count": 61,
   "id": "8820d235",
   "metadata": {},
   "outputs": [
    {
     "data": {
      "text/plain": [
       "{1: 'Umar', 2: 'Talal', 3: 74, 4: 19, 5: '123'}"
      ]
     },
     "execution_count": 61,
     "metadata": {},
     "output_type": "execute_result"
    }
   ],
   "source": [
    "dict_with_key_num"
   ]
  },
  {
   "cell_type": "code",
   "execution_count": 62,
   "id": "d887e465",
   "metadata": {},
   "outputs": [
    {
     "ename": "SyntaxError",
     "evalue": "expression expected after dictionary key and ':' (3459376210.py, line 5)",
     "output_type": "error",
     "traceback": [
      "\u001b[1;36m  Cell \u001b[1;32mIn[62], line 5\u001b[1;36m\u001b[0m\n\u001b[1;33m    'phone_number': }\u001b[0m\n\u001b[1;37m                  ^\u001b[0m\n\u001b[1;31mSyntaxError\u001b[0m\u001b[1;31m:\u001b[0m expression expected after dictionary key and ':'\n"
     ]
    }
   ],
   "source": [
    "{'first_name': 'Umar',\n",
    " 'last_name': 'Talal',\n",
    " 'weight': 74,\n",
    " 'age': 19,\n",
    " 'phone_number': }"
   ]
  },
  {
   "cell_type": "markdown",
   "id": "c7ef77f2",
   "metadata": {},
   "source": [
    "### TASK:\n",
    "\n",
    "- Create dictionary\n",
    "- Adding values in dictionary\n",
    "- Update values in dictionary\n",
    "- Deleteing values in dictionary\n",
    "- Get `.get()` in dictionary\n",
    "- .item()\n",
    "- .keys()\n",
    "- .values()\n",
    "- .fromkeys()"
   ]
  },
  {
   "cell_type": "code",
   "execution_count": 63,
   "id": "410f40fb",
   "metadata": {},
   "outputs": [],
   "source": [
    "students_marks = {\"Zain\": 100, \"Umar\": 100, \"talal\": 100}"
   ]
  },
  {
   "cell_type": "code",
   "execution_count": 65,
   "id": "79ba7955",
   "metadata": {},
   "outputs": [],
   "source": [
    "del students_marks[\"Zain\"]"
   ]
  },
  {
   "cell_type": "code",
   "execution_count": 66,
   "id": "c4366993",
   "metadata": {},
   "outputs": [],
   "source": [
    "new_marks = 10"
   ]
  },
  {
   "cell_type": "code",
   "execution_count": 67,
   "id": "3b91216e",
   "metadata": {},
   "outputs": [
    {
     "data": {
      "text/plain": [
       "{'Umar': 10, 'talal': 10}"
      ]
     },
     "execution_count": 67,
     "metadata": {},
     "output_type": "execute_result"
    }
   ],
   "source": [
    "students_marks.fromkeys(students_marks, new_marks)"
   ]
  },
  {
   "cell_type": "code",
   "execution_count": 68,
   "id": "a2123968",
   "metadata": {},
   "outputs": [
    {
     "data": {
      "text/plain": [
       "dict"
      ]
     },
     "execution_count": 68,
     "metadata": {},
     "output_type": "execute_result"
    }
   ],
   "source": [
    "type(students_marks.fromkeys(students_marks, new_marks))"
   ]
  },
  {
   "cell_type": "code",
   "execution_count": 69,
   "id": "a43cd672",
   "metadata": {},
   "outputs": [],
   "source": [
    "students_marks = students_marks.fromkeys(students_marks, new_marks)"
   ]
  },
  {
   "cell_type": "code",
   "execution_count": 70,
   "id": "835bfd68",
   "metadata": {},
   "outputs": [],
   "source": [
    "students_marks['ayesha'] = 100"
   ]
  },
  {
   "cell_type": "code",
   "execution_count": 71,
   "id": "9c1f58e3",
   "metadata": {},
   "outputs": [
    {
     "data": {
      "text/plain": [
       "{'Umar': 10, 'talal': 10, 'ayesha': 100}"
      ]
     },
     "execution_count": 71,
     "metadata": {},
     "output_type": "execute_result"
    }
   ],
   "source": [
    "students_marks"
   ]
  },
  {
   "cell_type": "code",
   "execution_count": 72,
   "id": "31774935",
   "metadata": {},
   "outputs": [
    {
     "data": {
      "text/plain": [
       "{'ayesha': 10, 'maryam': 10}"
      ]
     },
     "execution_count": 72,
     "metadata": {},
     "output_type": "execute_result"
    }
   ],
   "source": [
    "students_marks = {\"ayesha\": 100, \"maryam\": 100, \"mehmood\": 100}\n",
    "del students_marks[\"mehmood\"]\n",
    "\n",
    "new_marks = 10\n",
    "\n",
    "students_marks.fromkeys(students_marks, new_marks)"
   ]
  },
  {
   "cell_type": "code",
   "execution_count": 73,
   "id": "7c1d3e87",
   "metadata": {},
   "outputs": [],
   "source": [
    "students_marks['ayesha'] = 100"
   ]
  },
  {
   "cell_type": "code",
   "execution_count": 74,
   "id": "cd232cbd",
   "metadata": {},
   "outputs": [
    {
     "data": {
      "text/plain": [
       "{'ayesha': 100, 'maryam': 100}"
      ]
     },
     "execution_count": 74,
     "metadata": {},
     "output_type": "execute_result"
    }
   ],
   "source": [
    "students_marks"
   ]
  },
  {
   "cell_type": "code",
   "execution_count": 75,
   "id": "9bfcf1da",
   "metadata": {},
   "outputs": [
    {
     "data": {
      "text/plain": [
       "dict_items([('ayesha', 100), ('maryam', 100)])"
      ]
     },
     "execution_count": 75,
     "metadata": {},
     "output_type": "execute_result"
    }
   ],
   "source": [
    "students_marks.items()\n"
   ]
  },
  {
   "cell_type": "code",
   "execution_count": 76,
   "id": "42f1ff84",
   "metadata": {},
   "outputs": [
    {
     "name": "stdout",
     "output_type": "stream",
     "text": [
      "ayesha is 100\n",
      "maryam is 100\n"
     ]
    }
   ],
   "source": [
    "for key,value in students_marks.items():\n",
    "    print(f'{key} is {value}')"
   ]
  },
  {
   "cell_type": "code",
   "execution_count": 77,
   "id": "5cb5f253",
   "metadata": {},
   "outputs": [
    {
     "name": "stdout",
     "output_type": "stream",
     "text": [
      "ayesha is key\n",
      "maryam is key\n"
     ]
    }
   ],
   "source": [
    "for key in students_marks.keys():\n",
    "    print(f'{key} is key')"
   ]
  },
  {
   "cell_type": "code",
   "execution_count": 78,
   "id": "5941851b",
   "metadata": {},
   "outputs": [
    {
     "name": "stdout",
     "output_type": "stream",
     "text": [
      "100 is value\n",
      "100 is value\n"
     ]
    }
   ],
   "source": [
    "for value in students_marks.values():\n",
    "    print(f'{value} is value')"
   ]
  },
  {
   "cell_type": "code",
   "execution_count": 79,
   "id": "06f5746c",
   "metadata": {},
   "outputs": [],
   "source": [
    "#list of dictinaries\n",
    "customers = [{\"customer id\": 0,\n",
    "              \"first name\":\"John\",\n",
    "              \"last name\": \"Ogden\",\n",
    "              \"address\": \"301 Arbor Rd.\"},\n",
    "             {\"customer id\": 1,\n",
    "              \"first name\":\"Ann\",\n",
    "              \"last name\": \"Sattermyer\",\n",
    "              \"address\": \"PO Box 1145\"\n",
    "             }\n",
    "            ]"
   ]
  },
  {
   "cell_type": "code",
   "execution_count": 80,
   "id": "09ff7197",
   "metadata": {},
   "outputs": [
    {
     "data": {
      "text/plain": [
       "{'customer id': 0,\n",
       " 'first name': 'John',\n",
       " 'last name': 'Ogden',\n",
       " 'address': '301 Arbor Rd.'}"
      ]
     },
     "execution_count": 80,
     "metadata": {},
     "output_type": "execute_result"
    }
   ],
   "source": [
    "customers[0]"
   ]
  },
  {
   "cell_type": "code",
   "execution_count": 81,
   "id": "fcb54dcc",
   "metadata": {},
   "outputs": [
    {
     "data": {
      "text/plain": [
       "dict"
      ]
     },
     "execution_count": 81,
     "metadata": {},
     "output_type": "execute_result"
    }
   ],
   "source": [
    "type(customers[0])"
   ]
  },
  {
   "cell_type": "code",
   "execution_count": 82,
   "id": "0fa0f2c2",
   "metadata": {},
   "outputs": [
    {
     "data": {
      "text/plain": [
       "'301 Arbor Rd.'"
      ]
     },
     "execution_count": 82,
     "metadata": {},
     "output_type": "execute_result"
    }
   ],
   "source": [
    "customers[0]['address']"
   ]
  },
  {
   "cell_type": "code",
   "execution_count": 83,
   "id": "f5d5129e",
   "metadata": {},
   "outputs": [],
   "source": [
    "# dict of list\n",
    "\n",
    "customer = {\n",
    "    'customer id': [1, 2],\n",
    "    'first_name': ['Umar', 'Zain'],\n",
    "    'last_name': ['Owais', 'Talal'],\n",
    "    'address': ['Stadium road', 'north Karachi']\n",
    "}"
   ]
  },
  {
   "cell_type": "code",
   "execution_count": 84,
   "id": "e14075eb",
   "metadata": {},
   "outputs": [
    {
     "data": {
      "text/plain": [
       "'north Karachi'"
      ]
     },
     "execution_count": 84,
     "metadata": {},
     "output_type": "execute_result"
    }
   ],
   "source": [
    "customer['address'][1]"
   ]
  },
  {
   "cell_type": "code",
   "execution_count": null,
   "id": "1941e0ed",
   "metadata": {},
   "outputs": [],
   "source": []
  },
  {
   "cell_type": "code",
   "execution_count": null,
   "id": "69c1db99",
   "metadata": {},
   "outputs": [],
   "source": []
  }
 ],
 "metadata": {
  "kernelspec": {
   "display_name": "Python 3 (ipykernel)",
   "language": "python",
   "name": "python3"
  },
  "language_info": {
   "codemirror_mode": {
    "name": "ipython",
    "version": 3
   },
   "file_extension": ".py",
   "mimetype": "text/x-python",
   "name": "python",
   "nbconvert_exporter": "python",
   "pygments_lexer": "ipython3",
   "version": "3.11.5"
  },
  "toc": {
   "base_numbering": 1,
   "nav_menu": {},
   "number_sections": true,
   "sideBar": true,
   "skip_h1_title": false,
   "title_cell": "Table of Contents",
   "title_sidebar": "Contents",
   "toc_cell": false,
   "toc_position": {},
   "toc_section_display": true,
   "toc_window_display": false
  }
 },
 "nbformat": 4,
 "nbformat_minor": 5
}
